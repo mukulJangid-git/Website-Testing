{
 "cells": [
  {
   "cell_type": "markdown",
   "id": "bda97926",
   "metadata": {},
   "source": [
    "## Mukul Jangid 22BCON1522\n",
    "## Title: Website A/B Testing for Conversion Optimization\n",
    "### Problem:\n",
    "\n",
    "An E-Cmmerce startup wants to know if a new checkout funnerl (B) outperforms the old one (A)\n",
    "### Steps:\n",
    "1. Simulate click-through data (visit vs purchases) for A and B.\n",
    "2. Calculate conversion rates and 95% confidence intervals.\n",
    "3. Plot conversion rates with error bars.\n",
    "4. Perform a two-proportion x-test to see if B beats A.\n",
    "5. Real-Time Monnitoring & Sequential Testing.\n"
   ]
  },
  {
   "cell_type": "markdown",
   "id": "08a8b3b1",
   "metadata": {},
   "source": [
    "### Step 1. Simulate Data for A/B Test\n",
    "- Importing the necessary libraries\n",
    "- Sets the random seed, so every time you run the code, you get the same results.\n",
    "- This makes you results reproducible.\n",
    "\n",
    "You are running an A/B Test\n",
    "- Variant A: The orignal checkout page.\n",
    "- Variant B: The new version you're testing.\n",
    "\n",
    "You are assuming:\n",
    "- Each version had 10,000 visitors.\n",
    "- Version A has a true conversion rate of 10%.\n",
    "- Version B has true conversion rate of 12%.\n",
    "\n",
    "In marketing terms:\n",
    "- Out of 10,000 visitors, we expect A to convert~1,000 users and B to convert~1,200.\n",
    "\n",
    "- This simulates how many actual purchases happen out of 10,000 visitors.\n",
    "- Since not every visit leads to a purchase, we model this using a binomial distribution just like flipping coin.\n",
    "\n",
    "Each visitor has a chance to convert based on probability.\n",
    "\n",
    "The result:\n",
    "- Success_A might be something like 980/10,000\n",
    "- Success_B might be something like 1215/10,000\n",
    "\n",
    "Thses numbers are not fixed they simulate what might happen in real life when some customers buy and other don't."
   ]
  },
  {
   "cell_type": "markdown",
   "id": "0f43f207",
   "metadata": {},
   "source": [
    "Summary:\n",
    "- We are pretending two versions of a website werer shown to 10,000 people each.\n",
    "- One version has 10% chance of converting visitors and the ohter has 12%.\n",
    "- We then simulate how many people actually purchased in each group just like it would happen on real website."
   ]
  },
  {
   "cell_type": "code",
   "execution_count": 35,
   "id": "6555b7e7",
   "metadata": {},
   "outputs": [],
   "source": [
    "# 1. Simulate Data\n",
    "import numpy as np\n",
    "import pandas as pd\n",
    "import matplotlib.pyplot as plt\n",
    "from scipy import stats\n",
    "from statsmodels.stats.proportion import proportions_ztest\n",
    "\n",
    "np.random.seed(42)\n",
    "\n",
    "# Assume 10,000 users in each group\n",
    "number_a = 10_000\n",
    "percent_a = 0.10  # 10% conversion rate for group A\n",
    "number_b = 10_000\n",
    "percent_b = 0.12  # 12% conversion rate for group B\n",
    "\n",
    "# Simulate purchase data\n",
    "purchase_a = np.random.binomial(number_a, percent_a)\n",
    "purchase_b = np.random.binomial(number_b, percent_b)"
   ]
  },
  {
   "cell_type": "markdown",
   "id": "754d265d",
   "metadata": {},
   "source": [
    "### Step 2. Calculate Conversion Rates & 95% Confidence Intervals\n",
    "Goal of this step:\n",
    "1. Calculate the conversion rate.\n",
    "2. Create a 95% confidence interval (CI) to show the uncertainty in our estimate."
   ]
  },
  {
   "cell_type": "markdown",
   "id": "6e042547",
   "metadata": {},
   "source": [
    "What is a Conversion Rate (CR)?\n",
    "\n",
    "- The percentage of visitors who converted.  CR = conversion/visitors\n",
    "\n",
    "What is confidence interval?\n",
    "\n",
    "- A range that we are 95% confident contains the true conversion rate.\n",
    "\n",
    "If the interval is narrow we are more certain. If it's wide there's uncertainty."
   ]
  },
  {
   "cell_type": "markdown",
   "id": "b0437311",
   "metadata": {},
   "source": [
    "Code:\n",
    "- Input: number of successes(purchases), number of trails(visitors), and confidence level (default=95%).\n",
    "- Output:\n",
    "    - Estimated conversion rate.\n",
    "    - Lower and upper bounds of the confidence interval\n",
    "- Inside the function:\n",
    "    - p_hat = conversion rate\n",
    "    - se = standard error = how much the conversion rate could vary\n",
    "    - z = z-score for 95% confidence = 1.96\n",
    "    - Then we return: p'+- z*SE\n",
    "- Calculate:\n",
    "    - Conversion rate for A and B\n",
    "    - 95% confidence intervals for both\n",
    "- Then convert results into a table with:\n",
    "    - Visitors, conversions, conversion rate\n",
    "    - Confidence intervals (how sure we are about those rates)"
   ]
  },
  {
   "cell_type": "code",
   "execution_count": 36,
   "id": "23c80af9",
   "metadata": {},
   "outputs": [
    {
     "name": "stdout",
     "output_type": "stream",
     "text": [
      "  Variant  Visitors  Conversions  Conversion Rate  CI Lower (95%)  \\\n",
      "0       A     10000          973           0.0973        0.091491   \n",
      "1       B     10000         1134           0.1134        0.107185   \n",
      "\n",
      "   CI Upper (95%)  \n",
      "0        0.103109  \n",
      "1        0.119615  \n"
     ]
    }
   ],
   "source": [
    "# 2. Calculate Conversion Rates\n",
    "def proportion_ci(successes,n,alpha=0.05):\n",
    "    p_hat = successes / n\n",
    "    z = stats.norm.ppf(1 - alpha / 2)\n",
    "    se = np.sqrt(p_hat * (1 - p_hat) / n)\n",
    "    return p_hat, p_hat - z * se, p_hat + z * se\n",
    "percent_a_hat, ci_a_lower, ci_a_upper = proportion_ci(purchase_a, number_a)\n",
    "percent_b_hat, ci_b_lower, ci_b_upper = proportion_ci(purchase_b, number_b)\n",
    "\n",
    "results = pd.DataFrame({\n",
    "    \"Variant\": [\"A\", \"B\"],\n",
    "    \"Visitors\": [number_a, number_b],\n",
    "    \"Conversions\": [purchase_a, purchase_b],\n",
    "    \"Conversion Rate\": [percent_a_hat, percent_b_hat],\n",
    "    \"CI Lower (95%)\": [ci_a_lower, ci_b_lower],\n",
    "    \"CI Upper (95%)\": [ci_a_upper, ci_b_upper]\n",
    "})\n",
    "pd.set_option('display.max_columns', None)\n",
    "print(results)"
   ]
  },
  {
   "cell_type": "markdown",
   "id": "a51fe5c2",
   "metadata": {},
   "source": [
    "Analyze the output:\n",
    "- For variant A, about 9.73% of people bought something.\n",
    "- For variant B, about 11.34% did.\n",
    "- We re 95% sure that the true conversion rate lies within the listed range for each version"
   ]
  },
  {
   "cell_type": "markdown",
   "id": "ece64e8d",
   "metadata": {},
   "source": [
    "### Step 3. Plot conversion rates with error bars\n",
    "Create a bar chart that:\n",
    "- Show the conversion rate for both variants A and B.\n",
    "- Adds error bars to represent uncertainity."
   ]
  },
  {
   "cell_type": "markdown",
   "id": "1ff66dc5",
   "metadata": {},
   "source": [
    "Code:\n",
    "- set the size of plot\n",
    "- This draws a bar for each variant, and put a vertical error bar on top to show uncertanity\n",
    "- The error bar spans from the lower CI to upper CI, making it easy to see how accurate our estimate is.\n",
    "- Label x-axis and y-axis\n",
    "- Add title of the plot\n",
    "- Sets the height of the chart so bars and error don;t get cut off.\n",
    "- Display the chart."
   ]
  },
  {
   "cell_type": "code",
   "execution_count": 37,
   "id": "b153d29c",
   "metadata": {},
   "outputs": [
    {
     "data": {
      "image/png": "[encoded data removed]",
      "text/plain": [
       "<Figure size 1000x600 with 1 Axes>"
      ]
     },
     "metadata": {},
     "output_type": "display_data"
    }
   ],
   "source": [
    "# 3. Plot Conversion Rates with Error Bars\n",
    "plt.figure(figsize=(10, 6))\n",
    "plt.bar(results['Variant'],\n",
    "        results['Conversion Rate'], \n",
    "        yerr=[results['Conversion Rate'] - results['CI Lower (95%)'], \n",
    "        results['CI Upper (95%)'] - results['Conversion Rate']], \n",
    "        capsize=5, color=['blue', 'orange'])\n",
    "plt.ylabel('Conversion Rate')\n",
    "plt.xlabel('Variant')\n",
    "plt.title('Conversion Rates with 95% Confidence Intervals')\n",
    "plt.ylim(0,max(results['CI Upper (95%)']) + 0.02)\n",
    "plt.show()"
   ]
  },
  {
   "cell_type": "markdown",
   "id": "400cca96",
   "metadata": {},
   "source": [
    "What the chart shows\n",
    "- Two bars: One for Variant A and one for Variant B\n",
    "- Height of the bar = observed conversion rate\n",
    "- Thin vertical lines = 95% confidence interval\n",
    "- If the error bars don't overlap, it suggest B may be significantly better than A.\n",
    "\n",
    "Summary:\n",
    "\n",
    "This chart shows which version of the website got more people to buy and how confident we are in that result. The bars show average results; the error lines show how much uncertainty is in our estimate.\n",
    "\n",
    "Its a visual to understand:\n",
    "- which version is performing better\n",
    "- whether that difference might just be due to random chance\n",
    "- This helps marketers presents data clearly and make data driven decisions with confidence"
   ]
  },
  {
   "cell_type": "markdown",
   "id": "1f88d995",
   "metadata": {},
   "source": [
    "### Step 4. Two-Proportion z-test\n",
    "Statistically test whether variant B performs better than variant A in terms of conversion rate."
   ]
  },
  {
   "cell_type": "markdown",
   "id": "37be3875",
   "metadata": {},
   "source": [
    "what is z-test proportions?\n",
    "\n",
    "It compares two groups to see if the difference between their conversion rate is:\n",
    "- Real (statistically significant)\n",
    "- Or just random chance"
   ]
  },
  {
   "cell_type": "markdown",
   "id": "ea723844",
   "metadata": {},
   "source": [
    "Code Explained:\n",
    "- We're doung a one-sided hypothesis test:\n",
    "    - H0(null): Variant B is not better than A (B<=A)\n",
    "    - H1 (alternative): Variant B is better than A (B> A)\n",
    "- count: the number of purchases for each variant\n",
    "- nobs: the number of visitors for each variant\n",
    "These are used to calculate conversion rates and standard errors.\n",
    "- This runs the two-proportion z-test\n",
    "- It returns:\n",
    "    - z_test: the z-score (how far apart the two rates are)\n",
    "    - p_value: the probability that the observed difference is due to chance\n",
    "- Display the result\n",
    "- If the p_value is less than 0.05 it means:\n",
    "    - the difference is unlikely to be due to chance--> B is truely better.\n",
    "- Otherwise:\n",
    "    - We can't say for sure that B is better."
   ]
  },
  {
   "cell_type": "markdown",
   "id": "dd848a3a",
   "metadata": {},
   "source": [
    "Important Points\n",
    "- We are using math to ask:\n",
    "    - Is B really better ar getting sales--or did it just get lucky in our sample?\n",
    "- This step help marketers and decision-makers.\n",
    "    - Avoid guessing or using intution alone\n",
    "    - Base decisions on solid statistical evidence\n",
    " - Key learning:\n",
    "    - How to formulate a hypothesis test\n",
    "    - What a p-value really tells you\n",
    "    - How to decide whether a difference in perfomance is statistically meningfull\n",
    "It's one of the most practical statistical tools used in A/B testing and marketing analytics."
   ]
  },
  {
   "cell_type": "code",
   "execution_count": 38,
   "id": "3653bcf0",
   "metadata": {},
   "outputs": [
    {
     "name": "stdout",
     "output_type": "stream",
     "text": [
      "Z-statistic: 3.7082\n",
      "P-value: 0.0001\n",
      "Reject H0: Variant B performs significantly better than Variant A.\n"
     ]
    }
   ],
   "source": [
    "# 4. Two-Proportion z-test\n",
    "# Test H0: percent_a <= percent_b vs H1: percent_a > percent_b\n",
    "count = np.array([purchase_b,purchase_a])\n",
    "nobs = np.array([number_b,number_a])\n",
    "z_stat,p_value = proportions_ztest(count, nobs, alternative='larger')\n",
    "print(f\"Z-statistic: {z_stat:.4f}\")\n",
    "print(f\"P-value: {p_value:.4f}\")\n",
    "if p_value < 0.05:\n",
    "    print(\"Reject H0: Variant B performs significantly better than Variant A.\")\n",
    "else:\n",
    "    print(\"Fail to reject H0: No significant difference between Variant A and B.\")\n",
    "    "
   ]
  },
  {
   "cell_type": "markdown",
   "id": "aec63f76",
   "metadata": {},
   "source": [
    "Expanation of key steps:\n",
    "1. Simulate data: We pretend each variant got 10000 visitors and has a true conversion probability then draw the actual number of conversion from a binomial distribution to mimic real world randomness.\n",
    "2. Conversion rates & confidence intervals. We each variant's observed conversion rate p=conversion/visitor and a 95% CI via \n",
    "p +- z0.975 ^p(1-p)/n\n",
    "3. Plot with error bars a bar chart shows each variant rate and its CI so you can visually compare whether the intervals overlap.\n",
    "4. Two-Proportion z-test we test:\n",
    "    - H0: Pb<=Pa vs H1: Pb> Pa\n",
    "5. Real Time monitoring & Sequential testing\n",
    "What: Simulate the data in small batches, update the cumulative conversion and totals, rerun the two proportion z-test each time and visualize how both the p-value and the observed lift evolve.\n",
    "\n",
    "Why: Shows how A/B tests are monitored in production and why peeking too often can inflate false-positive rates\n",
    "\n",
    "set up a real time simulation for how A/B test results would evolve miniute by miniute, just like in live marketing dashboard."
   ]
  },
  {
   "cell_type": "markdown",
   "id": "5475e7f6",
   "metadata": {},
   "source": [
    "Libraries imported:\n",
    "- numpy: Used for generating random data \n",
    "- matplotlib: used for ploting graphs\n",
    "- time: used to slow down the loop\n",
    "- proportion_ztest: for running ztest\n",
    "- clear output: clears old output when printing updated values\n",
    "Define true conversion rates for A and B:\n",
    "- true_p_a = 0.10, true_p_b = 0.12\n",
    "- These are the real probabilities of a visitor converting for each variant:\n",
    "    - 10% for Variant A\n",
    "    - 12% for variant B\n",
    "Batch Simulation Settings:\n",
    "- simulate 100 new visitors per variant per batch\n",
    "- simulate a total of 60 time steps-like 60 min or 60 chunks of traffic\n",
    "Initialize visitor and purchase counters:\n",
    "- These will keep track of:\n",
    "    - Total visitors shown each variant\n",
    "    - Total purchase made for each\n",
    "List to track metrics over time:\n",
    "- You will use these lists to store:\n",
    "    - Batch number\n",
    "    - p-values from the ztest at each step\n",
    "    - Lift (difference in conversion rate between B and A)\n",
    "These lists will be used for plotting how the test evolves over times"
   ]
  },
  {
   "cell_type": "markdown",
   "id": "36674593",
   "metadata": {},
   "source": [
    "Summary:\n",
    "\n",
    "Set up live simulation of an A/B test. Every min new visitor arrive some buy some don't and you keep track of:\n",
    "- conversion rate\n",
    "- Stastistical significance\n",
    "- Whether B is clearly outperfoming A\n",
    "Understand how ab test are mentioned continously, not at the end which is how real marketing teams operate."
   ]
  },
  {
   "cell_type": "code",
   "execution_count": 39,
   "id": "002af5cf",
   "metadata": {},
   "outputs": [],
   "source": [
    "import numpy as np\n",
    "import matplotlib.pyplot as plt,time\n",
    "from statsmodels.stats.proportion import proportions_ztest\n",
    "from IPython.display import clear_output\n",
    "\n",
    "true_p_a = 0.10  # True conversion rate for group A\n",
    "true_p_b = 0.12  # True conversion rate for group B\n",
    "batch_size = 100  # Number of visitors per batch\n",
    "n_batch = 60\n",
    "\n",
    "# Initialize counters\n",
    "n_visits_a = n_visits_b = 0\n",
    "n_purchases_a = n_purchases_b = 0\n",
    "\n",
    "# Lists to store results\n",
    "batches = []\n",
    "p_values = []\n",
    "lifts = []"
   ]
  },
  {
   "cell_type": "markdown",
   "id": "4878154d",
   "metadata": {},
   "source": [
    "- Loop through 60 batches (time steps)\n",
    "    - for batch in range(1,n_batch+1):\n",
    "run this simulation for 60 times imagine 60 min of traffic\n",
    "- simulate one batch of visitors\n",
    "    - This simlates 100 visitors each for version A and version B. Each one has a chance to convert(buy):\n",
    "        - A: 10% chance\n",
    "        - B 12% chance\n",
    "- Update totals\n",
    "    - keep a running total of how many:\n",
    "        - visitors came in\n",
    "        - Purchases were made\n",
    "- Calculate conversion rate & lift\n",
    "    - cr_a: total conversion rate for a so far\n",
    "    - cr_b: total for b\n",
    "    - Lift: how much better B is than A\n",
    "- Run statistical test (ztest)\n",
    "    - This test: is versino of b doung signigicantly better than a?\n",
    "    - It gives you:\n",
    "        - z_stats: how strong the difference is\n",
    "        - p_val: the p-value \n",
    "    - if p_val <0.05 the difference is statistically significant.\n",
    "- Store the results:\n",
    "    - This will let you plot how you p_value and lift changes over time.\n",
    "- Print results\n",
    "    - How many visitors and conversion each version got\n",
    "    - current conversion rates\n",
    "    - the observed lift\n",
    "    - the z-score and p-value\n",
    "    - Whether the result is statistically yet\n",
    "- Plot p-value and lift\n",
    "    - Left graph: p-value over time\n",
    "        - red line ar 0.05 = significant threshold\n",
    "    - Right graph: observed lift over time\n",
    "    you see how confidence build over time\n",
    "- Add a pause:\n",
    "    - this addss a 0.2 seacond pause between each batch to make the animation feel real time."
   ]
  },
  {
   "cell_type": "markdown",
   "id": "41c07890",
   "metadata": {},
   "source": [
    "Summary:\n",
    "\n",
    "Every round simulates a new group of visitors. We update conversion stats, run a test and plot results. Over the time we see if version B is truly better, or it's just random chance\n",
    "- Important points:\n",
    "    - It mimics real world A/B testing Dashboard\n",
    "    - It shows how p-values change with more data\n",
    "    - It teaches that peeking early can lead to wrong conclusion a common mistake in marketing experiments.\n",
    "\n",
    "Understand both the pratical process and the statistical reasoning behind real-time decision-making."
   ]
  },
  {
   "cell_type": "code",
   "execution_count": 41,
   "id": "85b1801f",
   "metadata": {},
   "outputs": [
    {
     "name": "stdout",
     "output_type": "stream",
     "text": [
      "Batch 60/60\n",
      "Variant A: 6000 visits, 575 purchases -> CR = 9.583%\n",
      "Variant B: 6000 visits, 716 purchases -> CR = 11.933%\n",
      "Overall Lift: 2.350%\n",
      "Z-stats = 4.154, P-value = 0.0000\n",
      "Variant B is significantly better than A!\n"
     ]
    },
    {
     "data": {
      "image/png": "[encoded data removed]",
      "text/plain": [
       "<Figure size 1400x500 with 2 Axes>"
      ]
     },
     "metadata": {},
     "output_type": "display_data"
    }
   ],
   "source": [
    "for batch in range(1,n_batch +1):\n",
    "    # Simulate one batch of visitors\n",
    "    new_a = np.random.binomial(batch_size, true_p_a)\n",
    "    new_b = np.random.binomial(batch_size, true_p_b)\n",
    "    \n",
    "    # Update counters\n",
    "    n_visits_a += batch_size\n",
    "    n_visits_b += batch_size\n",
    "    n_purchases_a += new_a\n",
    "    n_purchases_b += new_b\n",
    "    \n",
    "    # Compute current conversion rates\n",
    "    cr_a = n_purchases_a / n_visits_a\n",
    "    cr_b = n_purchases_b / n_visits_b\n",
    "    lift = cr_b - cr_a\n",
    "    \n",
    "    # Two proportion z-test\n",
    "    count = np.array([n_purchases_b,n_purchases_a])\n",
    "    nobs = np.array([n_visits_b,n_visits_a])\n",
    "    z_stat, p_value = proportions_ztest(count, nobs, alternative='larger')\n",
    "    \n",
    "    # Record for plotting \n",
    "    batches.append(batch)\n",
    "    p_values.append(p_value)\n",
    "    lifts.append(lift)\n",
    "    \n",
    "    # Clear last output and print new results\n",
    "    clear_output(wait=True)\n",
    "    print(f\"Batch {batch}/{n_batch}\")\n",
    "    print(f\"Variant A: {n_visits_a} visits, {n_purchases_a} purchases -> CR = {cr_a*100:.3f}%\")\n",
    "    print(f\"Variant B: {n_visits_b} visits, {n_purchases_b} purchases -> CR = {cr_b*100:.3f}%\") \n",
    "    print(f\"Overall Lift: {lift*100:.3f}%\")\n",
    "    print(f\"Z-stats = {z_stat:.3f}, P-value = {p_value:.4f}\")\n",
    "    if p_value < 0.05:\n",
    "        print(\"Variant B is significantly better than A!\")\n",
    "    else:\n",
    "        print(\"No significant difference yet.\")\n",
    "    \n",
    "    # Plot p-avlue and lift over time\n",
    "    fig,axes = plt.subplots(1,2,figsize=(14,5))\n",
    "    axes[0].plot(batches, p_values, marker='o')\n",
    "    axes[0].axhline(0.05, color='red', linestyle='--', label='a = 0.05')\n",
    "    axes[0].set_title('P-value over time')\n",
    "    axes[0].set_xlabel('Batch Number')\n",
    "    axes[0].set_ylabel('P-value')\n",
    "    axes[0].legend()\n",
    "    \n",
    "    axes[1].plot(batches, lifts, marker='o')\n",
    "    axes[1].set_title('Observed Lift (CR_B - CR_A)')\n",
    "    axes[1].set_xlabel('Batch Number')\n",
    "    axes[1].set_ylabel('Lift')\n",
    "    plt.tight_layout()\n",
    "    plt.show()\n",
    "    time.sleep(0.01)  # Pause for a second to simulate real-time updates"
   ]
  },
  {
   "cell_type": "markdown",
   "id": "d3a17da3",
   "metadata": {},
   "source": [
    "Key Learning\n",
    "- Streaming data handling how to ipdate metrics as new visitors arrive rather than one big batch\n",
    "- Sequential testing pitfals the p-value can fluctulate widly early on. peeking too often increase false positives a real industry concern.\n",
    "- Monitoring dashboards the dual plot let student visualize both the p-value trajectory and the observed liftmirroring real ab dashboards.\n",
    "- Practical inference learn to interpret not yet significant vs now significant in a dynamic context and appreciatethe need for pre-defined stopping rules.\n",
    "\n",
    "Give a more historical understanding of how A/B test are deployed and monitored in production environment.\n"
   ]
  }
 ],
 "metadata": {
  "kernelspec": {
   "display_name": "base",
   "language": "python",
   "name": "python3"
  },
  "language_info": {
   "codemirror_mode": {
    "name": "ipython",
    "version": 3
   },
   "file_extension": ".py",
   "mimetype": "text/x-python",
   "name": "python",
   "nbconvert_exporter": "python",
   "pygments_lexer": "ipython3",
   "version": "3.11.11"
  }
 },
 "nbformat": 4,
 "nbformat_minor": 5
}
